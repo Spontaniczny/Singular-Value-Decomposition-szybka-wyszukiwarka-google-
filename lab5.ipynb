{
 "cells": [
  {
   "cell_type": "code",
   "execution_count": 167,
   "metadata": {
    "collapsed": true
   },
   "outputs": [],
   "source": [
    "import scipy.sparse.linalg\n",
    "from datasets import load_dataset\n",
    "import pickle\n",
    "from nltk.stem import PorterStemmer\n",
    "import string\n",
    "import enchant\n",
    "from scipy import sparse\n",
    "from math import log\n",
    "from sklearn.preprocessing import normalize\n",
    "from sklearn.utils.extmath import randomized_svd"
   ]
  },
  {
   "cell_type": "code",
   "execution_count": 2,
   "outputs": [],
   "source": [
    "from nltk.corpus import stopwords\n",
    "english_dict = enchant.Dict(\"en_US\")\n",
    "stopwords = stopwords.words(\"english\")"
   ],
   "metadata": {
    "collapsed": false
   }
  },
  {
   "cell_type": "markdown",
   "source": [
    "### Download all english wikipedia articles"
   ],
   "metadata": {
    "collapsed": false
   }
  },
  {
   "cell_type": "code",
   "execution_count": 2,
   "outputs": [
    {
     "name": "stderr",
     "output_type": "stream",
     "text": [
      "Found cached dataset wikipedia (C:/Users/k2002/.cache/huggingface/datasets/wikipedia/20220301.en/2.0.0/aa542ed919df55cc5d3347f42dd4521d05ca68751f50dbc32bae2a7f1e167559)\n"
     ]
    },
    {
     "data": {
      "text/plain": "  0%|          | 0/1 [00:00<?, ?it/s]",
      "application/vnd.jupyter.widget-view+json": {
       "version_major": 2,
       "version_minor": 0,
       "model_id": "f72f4d58cd594050b7f63c5f27ba92d7"
      }
     },
     "metadata": {},
     "output_type": "display_data"
    }
   ],
   "source": [
    "dataset = load_dataset(\"wikipedia\", \"20220301.en\", beam_runner=\"DirectRunner\")"
   ],
   "metadata": {
    "collapsed": false
   }
  },
  {
   "cell_type": "markdown",
   "source": [
    "### Download english stopwords"
   ],
   "metadata": {
    "collapsed": false
   }
  },
  {
   "cell_type": "code",
   "execution_count": 22,
   "outputs": [
    {
     "name": "stderr",
     "output_type": "stream",
     "text": [
      "[nltk_data] Downloading package stopwords to\n",
      "[nltk_data]     C:\\Users\\k2002\\AppData\\Roaming\\nltk_data...\n",
      "[nltk_data]   Package stopwords is already up-to-date!\n",
      "[nltk_data] Downloading package punkt to\n",
      "[nltk_data]     C:\\Users\\k2002\\AppData\\Roaming\\nltk_data...\n",
      "[nltk_data]   Package punkt is already up-to-date!\n"
     ]
    },
    {
     "data": {
      "text/plain": "True"
     },
     "execution_count": 22,
     "metadata": {},
     "output_type": "execute_result"
    }
   ],
   "source": [
    "import nltk\n",
    "nltk.download('stopwords')\n",
    "nltk.download(\"punkt\")"
   ],
   "metadata": {
    "collapsed": false
   }
  },
  {
   "cell_type": "code",
   "execution_count": 3,
   "outputs": [],
   "source": [
    "dataset = dataset[\"train\"]"
   ],
   "metadata": {
    "collapsed": false
   }
  },
  {
   "cell_type": "markdown",
   "source": [
    "### Keep articles containing one of those words: [\"fruit\", \"fruits\", \"vegetable\", \"vegetables\", \"meat\"]"
   ],
   "metadata": {
    "collapsed": false
   }
  },
  {
   "cell_type": "code",
   "execution_count": 4,
   "outputs": [],
   "source": [
    "new_dataset = []\n",
    "my_words = [\"fruit\", \"fruits\", \"vegetable\", \"vegetables\", \"meat\"]\n",
    "for site in dataset:\n",
    "    tmp_text = site[\"text\"].split(\" \")\n",
    "    for word in my_words:\n",
    "        if word in tmp_text:\n",
    "            new_dataset.append(site)\n",
    "            break"
   ],
   "metadata": {
    "collapsed": false
   }
  },
  {
   "cell_type": "code",
   "execution_count": 5,
   "outputs": [
    {
     "name": "stdout",
     "output_type": "stream",
     "text": [
      "77605\n"
     ]
    }
   ],
   "source": [
    "print(len(new_dataset))"
   ],
   "metadata": {
    "collapsed": false
   }
  },
  {
   "cell_type": "code",
   "execution_count": 6,
   "outputs": [],
   "source": [
    "dataset = new_dataset"
   ],
   "metadata": {
    "collapsed": false
   }
  },
  {
   "cell_type": "markdown",
   "source": [
    "### Keep articles containing one of those words: [\"eat\", \"food\"]"
   ],
   "metadata": {
    "collapsed": false
   }
  },
  {
   "cell_type": "code",
   "execution_count": 13,
   "outputs": [],
   "source": [
    "new_dataset = []\n",
    "for site in dataset:\n",
    "    tmp_text = site[\"text\"].split(\" \")\n",
    "    if \"eat\" in tmp_text or \"food\" in tmp_text:\n",
    "        new_dataset.append(site)"
   ],
   "metadata": {
    "collapsed": false
   }
  },
  {
   "cell_type": "code",
   "execution_count": null,
   "outputs": [
    {
     "ename": "NameError",
     "evalue": "name 'new_dataset' is not defined",
     "output_type": "error",
     "traceback": [
      "\u001B[1;31m---------------------------------------------------------------------------\u001B[0m",
      "\u001B[1;31mNameError\u001B[0m                                 Traceback (most recent call last)",
      "Cell \u001B[1;32mIn[184], line 1\u001B[0m\n\u001B[1;32m----> 1\u001B[0m \u001B[38;5;28mprint\u001B[39m(\u001B[38;5;124mf\u001B[39m\u001B[38;5;124m\"\u001B[39m\u001B[38;5;124mNumber of elements in my database\u001B[39m\u001B[38;5;132;01m{\u001B[39;00m\u001B[38;5;28mlen\u001B[39m(new_dataset)\u001B[38;5;132;01m}\u001B[39;00m\u001B[38;5;124m\"\u001B[39m)\n",
      "\u001B[1;31mNameError\u001B[0m: name 'new_dataset' is not defined"
     ]
    }
   ],
   "source": [
    "print(f\"Number of elements in my database {len(new_dataset)}\")"
   ],
   "metadata": {
    "collapsed": false
   }
  },
  {
   "cell_type": "code",
   "execution_count": 15,
   "outputs": [],
   "source": [
    "dataset = new_dataset"
   ],
   "metadata": {
    "collapsed": false
   }
  },
  {
   "cell_type": "markdown",
   "source": [
    "### Save database to file"
   ],
   "metadata": {
    "collapsed": false
   }
  },
  {
   "cell_type": "code",
   "execution_count": 25,
   "outputs": [],
   "source": [
    "with open('dataset/my_dataset.bin', 'wb') as file:\n",
    "    pickle.dump(dataset, file)"
   ],
   "metadata": {
    "collapsed": false
   }
  },
  {
   "cell_type": "code",
   "execution_count": 3,
   "outputs": [],
   "source": [
    "with open('dataset/my_dataset.bin', 'rb') as file:\n",
    "    dataset = pickle.load(file)"
   ],
   "metadata": {
    "collapsed": false
   }
  },
  {
   "cell_type": "markdown",
   "source": [
    "### Reset id of every article"
   ],
   "metadata": {
    "collapsed": false
   }
  },
  {
   "cell_type": "code",
   "execution_count": 4,
   "outputs": [],
   "source": [
    "for i in range(len(dataset)):\n",
    "    dataset[i][\"id\"] = i"
   ],
   "metadata": {
    "collapsed": false
   }
  },
  {
   "cell_type": "markdown",
   "source": [
    "### Return list of simplified words for given text (article)"
   ],
   "metadata": {
    "collapsed": false
   }
  },
  {
   "cell_type": "code",
   "execution_count": 5,
   "outputs": [],
   "source": [
    "def simplify_string(text: str) -> list:\n",
    "    def my_filter(x):\n",
    "        if len(x) < 2 or any(char.isdigit() for char in x) or not english_dict.check(x):\n",
    "            return False\n",
    "        return True\n",
    "\n",
    "    ps = PorterStemmer()\n",
    "    text = text.lower().translate(str.maketrans(\"\\n\", \" \", string.punctuation)).split(\" \")\n",
    "    text = [word for word in text if word not in stopwords]\n",
    "    text = list(filter(my_filter, text))\n",
    "    text = list(map(ps.stem, text))\n",
    "    return text"
   ],
   "metadata": {
    "collapsed": false
   }
  },
  {
   "cell_type": "markdown",
   "source": [
    "### Creating bag of words for every article (and save progress to file every 100 articles)"
   ],
   "metadata": {
    "collapsed": false
   }
  },
  {
   "cell_type": "code",
   "execution_count": 127,
   "outputs": [],
   "source": [
    "all_words = set()\n",
    "words_per_article = list()  #[id] -> dict of words\n",
    "word_occurance = dict()   # word -> in_how_many_articles"
   ],
   "metadata": {
    "collapsed": false
   }
  },
  {
   "cell_type": "code",
   "execution_count": null,
   "outputs": [],
   "source": [
    "for i in range(len(dataset)):\n",
    "    text = simplify_string(dataset[i][\"text\"])\n",
    "    word_counter = dict() # TODO better deafult_dict liblary\n",
    "    for word in text:\n",
    "        if word not in word_counter:\n",
    "            word_counter[word] = 1\n",
    "        else:\n",
    "            word_counter[word] += 1\n",
    "    for word in word_counter:\n",
    "        all_words.add(word)\n",
    "        if word not in word_occurance:\n",
    "            word_occurance[word] = 1\n",
    "        else:\n",
    "            word_occurance[word] += 1\n",
    "    words_per_article.append(word_counter)\n",
    "    if i % 100 == 0:\n",
    "        print(f\"SAVING for i = {i}\")\n",
    "        with open('dataset/all_words.bin', 'wb') as file:\n",
    "            pickle.dump(all_words, file)\n",
    "        with open('dataset/words_per_article.bin', 'wb') as file:\n",
    "            pickle.dump(words_per_article, file)\n",
    "        with open('dataset/word_occurance.bin', 'wb') as file:\n",
    "            pickle.dump(word_occurance, file)\n",
    "    print(f\"{i} / { len(dataset)}\")"
   ],
   "metadata": {
    "collapsed": false,
    "pycharm": {
     "is_executing": true
    }
   }
  },
  {
   "cell_type": "code",
   "execution_count": 136,
   "outputs": [],
   "source": [
    "xd = False\n",
    "if xd: # anty misslick\n",
    "    with open('dataset/all_words.bin', 'wb') as file:\n",
    "        pickle.dump(all_words, file)\n",
    "    with open('dataset/words_per_article.bin', 'wb') as file:\n",
    "        pickle.dump(words_per_article, file)\n",
    "    with open('dataset/word_occurance.bin', 'wb') as file:\n",
    "        pickle.dump(word_occurance, file)"
   ],
   "metadata": {
    "collapsed": false
   }
  },
  {
   "cell_type": "code",
   "execution_count": 7,
   "outputs": [],
   "source": [
    "with open('dataset/all_words.bin', 'rb') as file:\n",
    "    all_words = pickle.load(file)\n",
    "with open('dataset/words_per_article.bin', 'rb') as file:\n",
    "    words_per_article = pickle.load(file)  #[id] -> dict of words\n",
    "with open('dataset/word_occurance.bin', 'rb') as file:\n",
    "    word_occurance = pickle.load(file)     # word -> in_how_many_articles"
   ],
   "metadata": {
    "collapsed": false
   }
  },
  {
   "cell_type": "markdown",
   "source": [
    "### Sorting list of all words from every article"
   ],
   "metadata": {
    "collapsed": false
   }
  },
  {
   "cell_type": "code",
   "execution_count": 8,
   "outputs": [],
   "source": [
    "all_words = sorted(list(all_words))\n",
    "all_words_indexes = dict()\n",
    "for i, word in enumerate(all_words):\n",
    "    all_words_indexes[word] = i"
   ],
   "metadata": {
    "collapsed": false
   }
  },
  {
   "cell_type": "code",
   "execution_count": 10,
   "outputs": [
    {
     "name": "stdout",
     "output_type": "stream",
     "text": [
      "I have 21052 articles and 41688 words\n"
     ]
    }
   ],
   "source": [
    "N = len(dataset)\n",
    "M = len(all_words)\n",
    "print(f\"I have {N} articles and {M} words\")"
   ],
   "metadata": {
    "collapsed": false
   }
  },
  {
   "cell_type": "markdown",
   "source": [
    "### Helpful functions"
   ],
   "metadata": {
    "collapsed": false
   }
  },
  {
   "cell_type": "code",
   "execution_count": null,
   "outputs": [],
   "source": [
    "def save_sparse_mat_file(sparse_matrix, filename):\n",
    "    sparse.save_npz(f\"dataset/{filename}\", sparse_matrix)\n",
    "\n",
    "def create_sparse_matrix_for_all_articles(use_idf = False):\n",
    "    row = []\n",
    "    col = []\n",
    "    word_counter = []\n",
    "    for i in range(N):\n",
    "        dict_of_words = words_per_article[i]\n",
    "        for word in dict_of_words:\n",
    "            col.append(i)\n",
    "            row.append(all_words_indexes[word])\n",
    "            if use_idf:  # TODO make this if nicer (and not repeted 1kkkkkk times)\n",
    "                word_counter.append(dict_of_words[word] * log(N / word_occurance[word]))\n",
    "            else:\n",
    "                word_counter.append(dict_of_words[word])\n",
    "        # print(f\"{i} / {N}\")\n",
    "    return sparse.csr_matrix((word_counter, (row, col)), shape=(M, N))\n",
    "\n",
    "\n",
    "def create_single_vector(text: str):  # already transposition\n",
    "    text = simplify_string(text)\n",
    "    tmp = []\n",
    "    for word in text:\n",
    "        if word in all_words:\n",
    "            tmp.append(word)\n",
    "    text = tmp\n",
    "\n",
    "    word_counter = dict()\n",
    "    for word in text:\n",
    "        if word not in word_counter:\n",
    "            word_counter[word] = 1\n",
    "        else:\n",
    "            word_counter[word] += 1\n",
    "\n",
    "    row = []\n",
    "    col = []\n",
    "\n",
    "    data = []\n",
    "    for word in word_counter:\n",
    "        row.append(0)\n",
    "        col.append(all_words_indexes[word])\n",
    "        data.append(word_counter[word])\n",
    "    return sparse.csr_matrix((data, (row, col)), shape=(1, M))\n",
    "\n",
    "\n",
    "def return_k_nearest_articles(searched_phrase, matrix_of_words, k = 10):\n",
    "    q = create_single_vector(searched_phrase)\n",
    "    q_norm = sparse.linalg.norm(q, axis=1)\n",
    "    ans = []\n",
    "    min_val = 0\n",
    "    for i in range(N):\n",
    "        col = matrix_of_words.getcol(i)\n",
    "        val = q * col\n",
    "        if not val:\n",
    "            continue\n",
    "        val = (val.data / (q_norm * sparse.linalg.norm(col, axis=0)))[0]\n",
    "        if len(ans) < k:\n",
    "            ans.append((i, val))\n",
    "        elif val > min_val:\n",
    "            ans.append((i, val))\n",
    "            ans.sort(key = lambda x: x[1], reverse=True)\n",
    "            ans.pop(-1)\n",
    "            min_val = ans[-1][1]\n",
    "        # print(f\"{i} / {N}\")\n",
    "    ans = [index[0] for index in ans]\n",
    "    return ans\n",
    "\n",
    "def return_k_nearest_articles_normalized(searched_phrase, k = 10):\n",
    "    q = create_single_vector(searched_phrase)\n",
    "    q_normalized = normalize(q, norm=\"l1\", axis=1)\n",
    "    ans_mat = q_normalized @ sparse_mat_normalized\n",
    "    cx = ans_mat.tocoo()\n",
    "    ans = []\n",
    "    min_val = 0\n",
    "    for i, val in zip(cx.col, cx.data):\n",
    "        if len(ans) < k:\n",
    "            ans.append((i, val))\n",
    "        elif val > min_val:\n",
    "            ans.append((i, val))\n",
    "            ans.sort(key = lambda x: x[1], reverse=True)\n",
    "            ans.pop(-1)\n",
    "            min_val = ans[-1][1]\n",
    "        # print(f\"{i} / {N}\")\n",
    "    ans = [index[0] for index in ans]\n",
    "    return ans\n",
    "\n",
    "def return_k_nearest_articles_svd(searched_phrase, svd_size, k = 10):\n",
    "    q = create_single_vector(searched_phrase)\n",
    "    q_normalized = normalize(q, norm=\"l1\", axis=1)\n",
    "    svd_U, svd_D, svd_V = load_svd_from_file(svd_size)\n",
    "    #              1 x M       M x SVD     SVD x SVD         SVD x N\n",
    "    ans_mat = ((q_normalized @ svd_U) @ sparse.diags(svd_D)) @ svd_V\n",
    "    ans_mat = sparse.csr_matrix(ans_mat)\n",
    "    cx = ans_mat.tocoo()\n",
    "    ans = []\n",
    "    min_val = 0\n",
    "    for i, val in zip(cx.col, cx.data):\n",
    "        if len(ans) < k:\n",
    "            ans.append((i, val))\n",
    "        elif val > min_val:\n",
    "            ans.append((i, val))\n",
    "            ans.sort(key = lambda x: x[1], reverse=True)\n",
    "            ans.pop(-1)\n",
    "            min_val = ans[-1][1]\n",
    "        # print(f\"{i} / {N}\")\n",
    "    ans = [index[0] for index in ans]\n",
    "    return ans\n",
    "\n",
    "def load_svd_from_file(k):\n",
    "    with open(f'dataset/sparse_svd_U_{k}.bin', 'rb') as file:\n",
    "        mat_S = pickle.load(file)\n",
    "    with open(f'dataset/sparse_svd_D_{k}.bin', 'rb') as file:\n",
    "        mat_D = pickle.load(file)\n",
    "    with open(f'dataset/sparse_svd_V_{k}.bin', 'rb') as file:\n",
    "        mat_V = pickle.load(file)\n",
    "    return mat_S, mat_D, mat_V"
   ],
   "metadata": {
    "collapsed": false
   }
  },
  {
   "cell_type": "markdown",
   "source": [
    "### Creating sparse matrix for every article"
   ],
   "metadata": {
    "collapsed": false
   }
  },
  {
   "cell_type": "code",
   "execution_count": 12,
   "outputs": [],
   "source": [
    "xd = False\n",
    "if xd:  # anty missclick\n",
    "    sparse_mat = create_sparse_matrix_for_all_articles(False)\n",
    "    save_sparse_mat_file(sparse_mat, \"sparse_mat_default.npz\")"
   ],
   "metadata": {
    "collapsed": false
   }
  },
  {
   "cell_type": "markdown",
   "source": [
    "### Inverse document frequency matrix"
   ],
   "metadata": {
    "collapsed": false
   }
  },
  {
   "cell_type": "code",
   "execution_count": 13,
   "outputs": [],
   "source": [
    "xd = False\n",
    "if xd:  # anty missclick\n",
    "    sparse_mat_idf = create_sparse_matrix_for_all_articles(True)\n",
    "    save_sparse_mat_file(sparse_mat_idf, \"sparse_mat_idf.npz\")"
   ],
   "metadata": {
    "collapsed": false
   }
  },
  {
   "cell_type": "markdown",
   "source": [
    "### Normalised idf matrix"
   ],
   "metadata": {
    "collapsed": false
   }
  },
  {
   "cell_type": "code",
   "execution_count": 277,
   "outputs": [],
   "source": [
    "xd = False\n",
    "if xd:  # anty missclick\n",
    "    sparse_mat_normalized = normalize(sparse_mat_idf, norm=\"l1\", axis=0)\n",
    "    save_sparse_mat_file(sparse_mat_normalized, \"sparse_mat_normalized.npz\")"
   ],
   "metadata": {
    "collapsed": false
   }
  },
  {
   "cell_type": "markdown",
   "source": [
    "### Normalised idf matrixes after svd (I tested different numbers of components)"
   ],
   "metadata": {
    "collapsed": false
   }
  },
  {
   "cell_type": "code",
   "execution_count": 171,
   "outputs": [],
   "source": [
    "xd = True\n",
    "k = 100\n",
    "if xd:  # anty missclick\n",
    "    # maybe use sklearn.decomposition.TruncatedSVD\n",
    "    mat_S, mat_D, mat_V = randomized_svd(sparse_mat_normalized, n_components=k, random_state=None)\n",
    "    with open(f'dataset/sparse_svd_U_{k}.bin', 'wb') as file:\n",
    "        pickle.dump(mat_S, file)\n",
    "    with open(f'dataset/sparse_svd_D_{k}.bin', 'wb') as file:\n",
    "        pickle.dump(mat_D, file)\n",
    "    with open(f'dataset/sparse_svd_V_{k}.bin', 'wb') as file:\n",
    "        pickle.dump(mat_V, file)"
   ],
   "metadata": {
    "collapsed": false
   }
  },
  {
   "cell_type": "code",
   "execution_count": 12,
   "outputs": [],
   "source": [
    "sparse_mat = sparse.load_npz(\"dataset/sparse_mat_idf.npz\")\n",
    "sparse_mat_idf = sparse.load_npz(\"dataset/sparse_mat_default.npz\")\n",
    "sparse_mat_normalized = sparse.load_npz(\"dataset/sparse_mat_normalized.npz\")"
   ],
   "metadata": {
    "collapsed": false
   }
  },
  {
   "cell_type": "markdown",
   "source": [
    "# Testing search engine"
   ],
   "metadata": {
    "collapsed": false
   }
  },
  {
   "cell_type": "markdown",
   "source": [
    "## Test 1 -> \"round dish with mozarella, tomato sauce and mushrooms\""
   ],
   "metadata": {
    "collapsed": false
   }
  },
  {
   "cell_type": "code",
   "execution_count": 267,
   "outputs": [
    {
     "name": "stdout",
     "output_type": "stream",
     "text": [
      "1: List of mushroom dishes | https://en.wikipedia.org/wiki/List%20of%20mushroom%20dishes\n",
      "2: Tomato | https://en.wikipedia.org/wiki/Tomato\n",
      "3: List of sauces | https://en.wikipedia.org/wiki/List%20of%20sauces\n",
      "4: Sauce | https://en.wikipedia.org/wiki/Sauce\n",
      "5: À la zingara | https://en.wikipedia.org/wiki/%C3%80%20la%20zingara\n",
      "6: Stewed tomatoes | https://en.wikipedia.org/wiki/Stewed%20tomatoes\n",
      "7: Edible mushroom | https://en.wikipedia.org/wiki/Edible%20mushroom\n",
      "8: Rainbow sauce | https://en.wikipedia.org/wiki/Rainbow%20sauce\n",
      "9: Worcestershire sauce | https://en.wikipedia.org/wiki/Worcestershire%20sauce\n",
      "10: List of condiments | https://en.wikipedia.org/wiki/List%20of%20condiments\n"
     ]
    }
   ],
   "source": [
    "k_nearest = return_k_nearest_articles(\"round dish with mozarella, tomato sauce and mushrooms\", sparse_mat)\n",
    "for i, index in enumerate(k_nearest):\n",
    "    print(f\"{i+1}: {dataset[index]['title']} | {dataset[index]['url']}\")"
   ],
   "metadata": {
    "collapsed": false
   }
  },
  {
   "cell_type": "code",
   "execution_count": 111,
   "outputs": [
    {
     "name": "stdout",
     "output_type": "stream",
     "text": [
      "1: List of mushroom dishes | https://en.wikipedia.org/wiki/List%20of%20mushroom%20dishes\n",
      "2: À la zingara | https://en.wikipedia.org/wiki/%C3%80%20la%20zingara\n",
      "3: Sauce | https://en.wikipedia.org/wiki/Sauce\n",
      "4: List of sauces | https://en.wikipedia.org/wiki/List%20of%20sauces\n",
      "5: List of condiments | https://en.wikipedia.org/wiki/List%20of%20condiments\n",
      "6: Tomato | https://en.wikipedia.org/wiki/Tomato\n",
      "7: Worcestershire sauce | https://en.wikipedia.org/wiki/Worcestershire%20sauce\n",
      "8: Stewed tomatoes | https://en.wikipedia.org/wiki/Stewed%20tomatoes\n",
      "9: Picadillo | https://en.wikipedia.org/wiki/Picadillo\n",
      "10: Rainbow sauce | https://en.wikipedia.org/wiki/Rainbow%20sauce\n"
     ]
    }
   ],
   "source": [
    "k_nearest_idf = return_k_nearest_articles(\"round dish with mozarella, tomato sauce and mushrooms\", sparse_mat_idf)\n",
    "for i, index in enumerate(k_nearest_idf):\n",
    "    print(f\"{i+1}: {dataset[index]['title']} | {dataset[index]['url']}\")"
   ],
   "metadata": {
    "collapsed": false
   }
  },
  {
   "cell_type": "code",
   "execution_count": 46,
   "outputs": [
    {
     "name": "stdout",
     "output_type": "stream",
     "text": [
      "1: List of sauces | https://en.wikipedia.org/wiki/List%20of%20sauces\n",
      "2: List of mushroom dishes | https://en.wikipedia.org/wiki/List%20of%20mushroom%20dishes\n",
      "3: Chargha | https://en.wikipedia.org/wiki/Chargha\n",
      "4: Sauce | https://en.wikipedia.org/wiki/Sauce\n",
      "5: Rainbow sauce | https://en.wikipedia.org/wiki/Rainbow%20sauce\n",
      "6: List of condiments | https://en.wikipedia.org/wiki/List%20of%20condiments\n",
      "7: Wine sauce | https://en.wikipedia.org/wiki/Wine%20sauce\n",
      "8: À la zingara | https://en.wikipedia.org/wiki/%C3%80%20la%20zingara\n",
      "9: Lists of prepared foods | https://en.wikipedia.org/wiki/Lists%20of%20prepared%20foods\n",
      "10: Kibbeh nayyeh | https://en.wikipedia.org/wiki/Kibbeh%20nayyeh\n"
     ]
    }
   ],
   "source": [
    "k_nearest_normalized = return_k_nearest_articles_normalized(\"round dish with mozarella, tomato sauce and mushrooms\")\n",
    "for i, index in enumerate(k_nearest_normalized):\n",
    "    print(f\"{i+1}: {dataset[index]['title']} | {dataset[index]['url']}\")"
   ],
   "metadata": {
    "collapsed": false
   }
  },
  {
   "cell_type": "code",
   "execution_count": 141,
   "outputs": [
    {
     "name": "stdout",
     "output_type": "stream",
     "text": [
      "1: Lists of prepared foods | https://en.wikipedia.org/wiki/Lists%20of%20prepared%20foods\n",
      "2: Chargha | https://en.wikipedia.org/wiki/Chargha\n",
      "3: Kibbeh nayyeh | https://en.wikipedia.org/wiki/Kibbeh%20nayyeh\n",
      "4: List of seafood dishes | https://en.wikipedia.org/wiki/List%20of%20seafood%20dishes\n",
      "5: Disanxian | https://en.wikipedia.org/wiki/Disanxian\n",
      "6: Khatti Dal | https://en.wikipedia.org/wiki/Khatti%20Dal\n",
      "7: Beyti kebab | https://en.wikipedia.org/wiki/Beyti%20kebab\n",
      "8: Cholera (food) | https://en.wikipedia.org/wiki/Cholera%20%28food%29\n",
      "9: Goat curry | https://en.wikipedia.org/wiki/Goat%20curry\n",
      "10: Carpaccio | https://en.wikipedia.org/wiki/Carpaccio\n"
     ]
    }
   ],
   "source": [
    "k_nearest_svd = return_k_nearest_articles_svd(\"round dish with mozarella, tomato sauce and mushrooms\", 50)\n",
    "for i, index in enumerate(k_nearest_svd):\n",
    "    print(f\"{i+1}: {dataset[index]['title']} | {dataset[index]['url']}\")"
   ],
   "metadata": {
    "collapsed": false
   }
  },
  {
   "cell_type": "code",
   "execution_count": 173,
   "outputs": [
    {
     "name": "stdout",
     "output_type": "stream",
     "text": [
      "1: List of sauces | https://en.wikipedia.org/wiki/List%20of%20sauces\n",
      "2: Rainbow sauce | https://en.wikipedia.org/wiki/Rainbow%20sauce\n",
      "3: Chargha | https://en.wikipedia.org/wiki/Chargha\n",
      "4: Sauce | https://en.wikipedia.org/wiki/Sauce\n",
      "5: Wine sauce | https://en.wikipedia.org/wiki/Wine%20sauce\n",
      "6: List of condiments | https://en.wikipedia.org/wiki/List%20of%20condiments\n",
      "7: Lists of prepared foods | https://en.wikipedia.org/wiki/Lists%20of%20prepared%20foods\n",
      "8: Kibbeh nayyeh | https://en.wikipedia.org/wiki/Kibbeh%20nayyeh\n",
      "9: List of seafood dishes | https://en.wikipedia.org/wiki/List%20of%20seafood%20dishes\n",
      "10: Disanxian | https://en.wikipedia.org/wiki/Disanxian\n"
     ]
    }
   ],
   "source": [
    "k_nearest_svd = return_k_nearest_articles_svd(\"round dish with mozarella, tomato sauce and mushrooms\", 100)\n",
    "for i, index in enumerate(k_nearest_svd):\n",
    "    print(f\"{i+1}: {dataset[index]['title']} | {dataset[index]['url']}\")"
   ],
   "metadata": {
    "collapsed": false
   }
  },
  {
   "cell_type": "code",
   "execution_count": 143,
   "outputs": [
    {
     "name": "stdout",
     "output_type": "stream",
     "text": [
      "1: List of sauces | https://en.wikipedia.org/wiki/List%20of%20sauces\n",
      "2: Sauce | https://en.wikipedia.org/wiki/Sauce\n",
      "3: Rainbow sauce | https://en.wikipedia.org/wiki/Rainbow%20sauce\n",
      "4: Chargha | https://en.wikipedia.org/wiki/Chargha\n",
      "5: List of condiments | https://en.wikipedia.org/wiki/List%20of%20condiments\n",
      "6: Wine sauce | https://en.wikipedia.org/wiki/Wine%20sauce\n",
      "7: Kibbeh nayyeh | https://en.wikipedia.org/wiki/Kibbeh%20nayyeh\n",
      "8: List of seafood dishes | https://en.wikipedia.org/wiki/List%20of%20seafood%20dishes\n",
      "9: Lists of prepared foods | https://en.wikipedia.org/wiki/Lists%20of%20prepared%20foods\n",
      "10: Beyti kebab | https://en.wikipedia.org/wiki/Beyti%20kebab\n"
     ]
    }
   ],
   "source": [
    "k_nearest_svd = return_k_nearest_articles_svd(\"round dish with mozarella, tomato sauce and mushrooms\", 250)\n",
    "for i, index in enumerate(k_nearest_svd):\n",
    "    print(f\"{i+1}: {dataset[index]['title']} | {dataset[index]['url']}\")"
   ],
   "metadata": {
    "collapsed": false
   }
  },
  {
   "cell_type": "code",
   "execution_count": 144,
   "outputs": [
    {
     "name": "stdout",
     "output_type": "stream",
     "text": [
      "1: List of sauces | https://en.wikipedia.org/wiki/List%20of%20sauces\n",
      "2: Chargha | https://en.wikipedia.org/wiki/Chargha\n",
      "3: Sauce | https://en.wikipedia.org/wiki/Sauce\n",
      "4: Rainbow sauce | https://en.wikipedia.org/wiki/Rainbow%20sauce\n",
      "5: List of condiments | https://en.wikipedia.org/wiki/List%20of%20condiments\n",
      "6: Wine sauce | https://en.wikipedia.org/wiki/Wine%20sauce\n",
      "7: Kibbeh nayyeh | https://en.wikipedia.org/wiki/Kibbeh%20nayyeh\n",
      "8: List of seafood dishes | https://en.wikipedia.org/wiki/List%20of%20seafood%20dishes\n",
      "9: Lists of prepared foods | https://en.wikipedia.org/wiki/Lists%20of%20prepared%20foods\n",
      "10: Beyti kebab | https://en.wikipedia.org/wiki/Beyti%20kebab\n"
     ]
    }
   ],
   "source": [
    "k_nearest_svd = return_k_nearest_articles_svd(\"round dish with mozarella, tomato sauce and mushrooms\", 500)\n",
    "for i, index in enumerate(k_nearest_svd):\n",
    "    print(f\"{i+1}: {dataset[index]['title']} | {dataset[index]['url']}\")"
   ],
   "metadata": {
    "collapsed": false
   }
  },
  {
   "cell_type": "code",
   "execution_count": 145,
   "outputs": [
    {
     "name": "stdout",
     "output_type": "stream",
     "text": [
      "1: List of sauces | https://en.wikipedia.org/wiki/List%20of%20sauces\n",
      "2: Chargha | https://en.wikipedia.org/wiki/Chargha\n",
      "3: Sauce | https://en.wikipedia.org/wiki/Sauce\n",
      "4: Rainbow sauce | https://en.wikipedia.org/wiki/Rainbow%20sauce\n",
      "5: List of mushroom dishes | https://en.wikipedia.org/wiki/List%20of%20mushroom%20dishes\n",
      "6: List of condiments | https://en.wikipedia.org/wiki/List%20of%20condiments\n",
      "7: Wine sauce | https://en.wikipedia.org/wiki/Wine%20sauce\n",
      "8: Lists of prepared foods | https://en.wikipedia.org/wiki/Lists%20of%20prepared%20foods\n",
      "9: À la zingara | https://en.wikipedia.org/wiki/%C3%80%20la%20zingara\n",
      "10: Kibbeh nayyeh | https://en.wikipedia.org/wiki/Kibbeh%20nayyeh\n"
     ]
    }
   ],
   "source": [
    "k_nearest_svd = return_k_nearest_articles_svd(\"round dish with mozarella, tomato sauce and mushrooms\", 1000)\n",
    "for i, index in enumerate(k_nearest_svd):\n",
    "    print(f\"{i+1}: {dataset[index]['title']} | {dataset[index]['url']}\")"
   ],
   "metadata": {
    "collapsed": false
   }
  },
  {
   "cell_type": "code",
   "execution_count": 270,
   "outputs": [
    {
     "name": "stdout",
     "output_type": "stream",
     "text": [
      "Correct answer was pizza :c\n"
     ]
    }
   ],
   "source": [
    "print(\"Correct answer was pizza :c\")"
   ],
   "metadata": {
    "collapsed": false
   }
  },
  {
   "cell_type": "markdown",
   "source": [],
   "metadata": {
    "collapsed": false
   }
  },
  {
   "cell_type": "markdown",
   "source": [
    "## Test 2 -> \"Neapolitan pizza\""
   ],
   "metadata": {
    "collapsed": false
   }
  },
  {
   "cell_type": "code",
   "execution_count": 112,
   "outputs": [
    {
     "name": "stdout",
     "output_type": "stream",
     "text": [
      "1: List of pizza varieties by country | https://en.wikipedia.org/wiki/List%20of%20pizza%20varieties%20by%20country\n",
      "2: History of pizza | https://en.wikipedia.org/wiki/History%20of%20pizza\n",
      "3: Pizza | https://en.wikipedia.org/wiki/Pizza\n",
      "4: Chicago-style pizza | https://en.wikipedia.org/wiki/Chicago-style%20pizza\n",
      "5: Iranian pizza | https://en.wikipedia.org/wiki/Iranian%20pizza\n",
      "6: Pizza in the United States | https://en.wikipedia.org/wiki/Pizza%20in%20the%20United%20States\n",
      "7: Pizza al taglio | https://en.wikipedia.org/wiki/Pizza%20al%20taglio\n",
      "8: National Pizza Month | https://en.wikipedia.org/wiki/National%20Pizza%20Month\n",
      "9: Sicilian pizza | https://en.wikipedia.org/wiki/Sicilian%20pizza\n",
      "10: Hawaiian pizza | https://en.wikipedia.org/wiki/Hawaiian%20pizza\n"
     ]
    }
   ],
   "source": [
    "k_nearest = return_k_nearest_articles(\"Neapolitan pizza\", sparse_mat)\n",
    "for i, index in enumerate(k_nearest):\n",
    "    print(f\"{i+1}: {dataset[index]['title']} | {dataset[index]['url']}\")"
   ],
   "metadata": {
    "collapsed": false
   }
  },
  {
   "cell_type": "code",
   "execution_count": 115,
   "outputs": [
    {
     "name": "stdout",
     "output_type": "stream",
     "text": [
      "1: List of pizza varieties by country | https://en.wikipedia.org/wiki/List%20of%20pizza%20varieties%20by%20country\n",
      "2: History of pizza | https://en.wikipedia.org/wiki/History%20of%20pizza\n",
      "3: Pizza | https://en.wikipedia.org/wiki/Pizza\n",
      "4: Chicago-style pizza | https://en.wikipedia.org/wiki/Chicago-style%20pizza\n",
      "5: Iranian pizza | https://en.wikipedia.org/wiki/Iranian%20pizza\n",
      "6: Pizza in the United States | https://en.wikipedia.org/wiki/Pizza%20in%20the%20United%20States\n",
      "7: Pizza al taglio | https://en.wikipedia.org/wiki/Pizza%20al%20taglio\n",
      "8: National Pizza Month | https://en.wikipedia.org/wiki/National%20Pizza%20Month\n",
      "9: Sicilian pizza | https://en.wikipedia.org/wiki/Sicilian%20pizza\n",
      "10: Hawaiian pizza | https://en.wikipedia.org/wiki/Hawaiian%20pizza\n"
     ]
    }
   ],
   "source": [
    "k_nearest_idf = return_k_nearest_articles(\"Neapolitan pizza\", sparse_mat_idf)\n",
    "for i, index in enumerate(k_nearest_idf):\n",
    "    print(f\"{i+1}: {dataset[index]['title']} | {dataset[index]['url']}\")"
   ],
   "metadata": {
    "collapsed": false
   }
  },
  {
   "cell_type": "code",
   "execution_count": 119,
   "outputs": [
    {
     "name": "stdout",
     "output_type": "stream",
     "text": [
      "1: National Pizza Month | https://en.wikipedia.org/wiki/National%20Pizza%20Month\n",
      "2: Iranian pizza | https://en.wikipedia.org/wiki/Iranian%20pizza\n",
      "3: List of pizza varieties by country | https://en.wikipedia.org/wiki/List%20of%20pizza%20varieties%20by%20country\n",
      "4: Pizza al taglio | https://en.wikipedia.org/wiki/Pizza%20al%20taglio\n",
      "5: Chicago-style pizza | https://en.wikipedia.org/wiki/Chicago-style%20pizza\n",
      "6: History of pizza | https://en.wikipedia.org/wiki/History%20of%20pizza\n",
      "7: Pizza | https://en.wikipedia.org/wiki/Pizza\n",
      "8: Sicilian pizza | https://en.wikipedia.org/wiki/Sicilian%20pizza\n",
      "9: Pizza in the United States | https://en.wikipedia.org/wiki/Pizza%20in%20the%20United%20States\n",
      "10: Hawaiian pizza | https://en.wikipedia.org/wiki/Hawaiian%20pizza\n"
     ]
    }
   ],
   "source": [
    "k_nearest_normalized = return_k_nearest_articles_normalized(\"Neapolitan pizza\")\n",
    "for i, index in enumerate(k_nearest_normalized):\n",
    "    print(f\"{i+1}: {dataset[index]['title']} | {dataset[index]['url']}\")"
   ],
   "metadata": {
    "collapsed": false
   }
  },
  {
   "cell_type": "code",
   "execution_count": 132,
   "outputs": [
    {
     "name": "stdout",
     "output_type": "stream",
     "text": [
      "1: National Pizza Month | https://en.wikipedia.org/wiki/National%20Pizza%20Month\n",
      "2: Iranian pizza | https://en.wikipedia.org/wiki/Iranian%20pizza\n",
      "3: List of pizza varieties by country | https://en.wikipedia.org/wiki/List%20of%20pizza%20varieties%20by%20country\n",
      "4: Pizza al taglio | https://en.wikipedia.org/wiki/Pizza%20al%20taglio\n",
      "5: Chicago-style pizza | https://en.wikipedia.org/wiki/Chicago-style%20pizza\n",
      "6: History of pizza | https://en.wikipedia.org/wiki/History%20of%20pizza\n",
      "7: Pizza | https://en.wikipedia.org/wiki/Pizza\n",
      "8: Sicilian pizza | https://en.wikipedia.org/wiki/Sicilian%20pizza\n",
      "9: Pizza in the United States | https://en.wikipedia.org/wiki/Pizza%20in%20the%20United%20States\n",
      "10: Hawaiian pizza | https://en.wikipedia.org/wiki/Hawaiian%20pizza\n"
     ]
    }
   ],
   "source": [
    "k_nearest_svd = return_k_nearest_articles_svd(\"Neapolitan pizza\", 50)\n",
    "for i, index in enumerate(k_nearest_svd):\n",
    "    print(f\"{i+1}: {dataset[index]['title']} | {dataset[index]['url']}\")"
   ],
   "metadata": {
    "collapsed": false
   }
  },
  {
   "cell_type": "code",
   "execution_count": 175,
   "outputs": [
    {
     "name": "stdout",
     "output_type": "stream",
     "text": [
      "1: Geographically indicated foods of the United Kingdom | https://en.wikipedia.org/wiki/Geographically%20indicated%20foods%20of%20the%20United%20Kingdom\n",
      "2: Cheese spread | https://en.wikipedia.org/wiki/Cheese%20spread\n",
      "3: Marble cheese | https://en.wikipedia.org/wiki/Marble%20cheese\n",
      "4: Shropshire Blue | https://en.wikipedia.org/wiki/Shropshire%20Blue\n",
      "5: Processed cheese | https://en.wikipedia.org/wiki/Processed%20cheese\n",
      "6: Cheese soup | https://en.wikipedia.org/wiki/Cheese%20soup\n",
      "7: Cheese bun | https://en.wikipedia.org/wiki/Cheese%20bun\n",
      "8: Fried cheese | https://en.wikipedia.org/wiki/Fried%20cheese\n",
      "9: Sirene | https://en.wikipedia.org/wiki/Sirene\n",
      "10: Kashkaval | https://en.wikipedia.org/wiki/Kashkaval\n"
     ]
    }
   ],
   "source": [
    "k_nearest_svd = return_k_nearest_articles_svd(\"Neapolitan pizza\", 100)\n",
    "for i, index in enumerate(k_nearest_svd):\n",
    "    print(f\"{i+1}: {dataset[index]['title']} | {dataset[index]['url']}\")"
   ],
   "metadata": {
    "collapsed": false
   }
  },
  {
   "cell_type": "code",
   "execution_count": 159,
   "outputs": [
    {
     "name": "stdout",
     "output_type": "stream",
     "text": [
      "1: National Pizza Month | https://en.wikipedia.org/wiki/National%20Pizza%20Month\n",
      "2: Iranian pizza | https://en.wikipedia.org/wiki/Iranian%20pizza\n",
      "3: Chicago-style pizza | https://en.wikipedia.org/wiki/Chicago-style%20pizza\n",
      "4: List of pizza varieties by country | https://en.wikipedia.org/wiki/List%20of%20pizza%20varieties%20by%20country\n",
      "5: Pizza al taglio | https://en.wikipedia.org/wiki/Pizza%20al%20taglio\n",
      "6: History of pizza | https://en.wikipedia.org/wiki/History%20of%20pizza\n",
      "7: Pizza | https://en.wikipedia.org/wiki/Pizza\n",
      "8: Sicilian pizza | https://en.wikipedia.org/wiki/Sicilian%20pizza\n",
      "9: Pizza in the United States | https://en.wikipedia.org/wiki/Pizza%20in%20the%20United%20States\n",
      "10: Hawaiian pizza | https://en.wikipedia.org/wiki/Hawaiian%20pizza\n"
     ]
    }
   ],
   "source": [
    "k_nearest_svd = return_k_nearest_articles_svd(\"Neapolitan pizza\", 250)\n",
    "for i, index in enumerate(k_nearest_svd):\n",
    "    print(f\"{i+1}: {dataset[index]['title']} | {dataset[index]['url']}\")"
   ],
   "metadata": {
    "collapsed": false
   }
  },
  {
   "cell_type": "code",
   "execution_count": 148,
   "outputs": [
    {
     "name": "stdout",
     "output_type": "stream",
     "text": [
      "1: National Pizza Month | https://en.wikipedia.org/wiki/National%20Pizza%20Month\n",
      "2: Iranian pizza | https://en.wikipedia.org/wiki/Iranian%20pizza\n",
      "3: List of pizza varieties by country | https://en.wikipedia.org/wiki/List%20of%20pizza%20varieties%20by%20country\n",
      "4: Chicago-style pizza | https://en.wikipedia.org/wiki/Chicago-style%20pizza\n",
      "5: Pizza al taglio | https://en.wikipedia.org/wiki/Pizza%20al%20taglio\n",
      "6: History of pizza | https://en.wikipedia.org/wiki/History%20of%20pizza\n",
      "7: Pizza | https://en.wikipedia.org/wiki/Pizza\n",
      "8: Sicilian pizza | https://en.wikipedia.org/wiki/Sicilian%20pizza\n",
      "9: Pizza in the United States | https://en.wikipedia.org/wiki/Pizza%20in%20the%20United%20States\n",
      "10: Hawaiian pizza | https://en.wikipedia.org/wiki/Hawaiian%20pizza\n"
     ]
    }
   ],
   "source": [
    "k_nearest_svd = return_k_nearest_articles_svd(\"Neapolitan pizza\", 500)\n",
    "for i, index in enumerate(k_nearest_svd):\n",
    "    print(f\"{i+1}: {dataset[index]['title']} | {dataset[index]['url']}\")"
   ],
   "metadata": {
    "collapsed": false
   }
  },
  {
   "cell_type": "code",
   "execution_count": 149,
   "outputs": [
    {
     "name": "stdout",
     "output_type": "stream",
     "text": [
      "1: National Pizza Month | https://en.wikipedia.org/wiki/National%20Pizza%20Month\n",
      "2: Iranian pizza | https://en.wikipedia.org/wiki/Iranian%20pizza\n",
      "3: List of pizza varieties by country | https://en.wikipedia.org/wiki/List%20of%20pizza%20varieties%20by%20country\n",
      "4: Pizza al taglio | https://en.wikipedia.org/wiki/Pizza%20al%20taglio\n",
      "5: Chicago-style pizza | https://en.wikipedia.org/wiki/Chicago-style%20pizza\n",
      "6: History of pizza | https://en.wikipedia.org/wiki/History%20of%20pizza\n",
      "7: Pizza | https://en.wikipedia.org/wiki/Pizza\n",
      "8: Sicilian pizza | https://en.wikipedia.org/wiki/Sicilian%20pizza\n",
      "9: Pizza in the United States | https://en.wikipedia.org/wiki/Pizza%20in%20the%20United%20States\n",
      "10: Hawaiian pizza | https://en.wikipedia.org/wiki/Hawaiian%20pizza\n"
     ]
    }
   ],
   "source": [
    "k_nearest_svd = return_k_nearest_articles_svd(\"Neapolitan pizza\", 1000)\n",
    "for i, index in enumerate(k_nearest_svd):\n",
    "    print(f\"{i+1}: {dataset[index]['title']} | {dataset[index]['url']}\")"
   ],
   "metadata": {
    "collapsed": false
   }
  },
  {
   "cell_type": "markdown",
   "source": [
    "## Test 3 -> \"meat-based sauce in Italian cuisine, typical of the city of Bologna\""
   ],
   "metadata": {
    "collapsed": false
   }
  },
  {
   "cell_type": "code",
   "execution_count": 176,
   "outputs": [
    {
     "name": "stdout",
     "output_type": "stream",
     "text": [
      "1: Sauce | https://en.wikipedia.org/wiki/Sauce\n",
      "2: List of sauces | https://en.wikipedia.org/wiki/List%20of%20sauces\n",
      "3: European cuisine | https://en.wikipedia.org/wiki/European%20cuisine\n",
      "4: List of Asian cuisines | https://en.wikipedia.org/wiki/List%20of%20Asian%20cuisines\n",
      "5: Oceanic cuisine | https://en.wikipedia.org/wiki/Oceanic%20cuisine\n",
      "6: Balkan cuisine | https://en.wikipedia.org/wiki/Balkan%20cuisine\n",
      "7: List of cuisines of the Americas | https://en.wikipedia.org/wiki/List%20of%20cuisines%20of%20the%20Americas\n",
      "8: List of European cuisines | https://en.wikipedia.org/wiki/List%20of%20European%20cuisines\n",
      "9: List of African cuisines | https://en.wikipedia.org/wiki/List%20of%20African%20cuisines\n",
      "10: Cuisine of the Indian subcontinent | https://en.wikipedia.org/wiki/Cuisine%20of%20the%20Indian%20subcontinent\n"
     ]
    }
   ],
   "source": [
    "k_nearest = return_k_nearest_articles(\"meat-based sauce in Italian cuisine, typical of the city of Bologna\", sparse_mat)\n",
    "for i, index in enumerate(k_nearest):\n",
    "    print(f\"{i+1}: {dataset[index]['title']} | {dataset[index]['url']}\")"
   ],
   "metadata": {
    "collapsed": false
   }
  },
  {
   "cell_type": "code",
   "execution_count": 177,
   "outputs": [
    {
     "name": "stdout",
     "output_type": "stream",
     "text": [
      "1: Sauce | https://en.wikipedia.org/wiki/Sauce\n",
      "2: List of sauces | https://en.wikipedia.org/wiki/List%20of%20sauces\n",
      "3: European cuisine | https://en.wikipedia.org/wiki/European%20cuisine\n",
      "4: Balkan cuisine | https://en.wikipedia.org/wiki/Balkan%20cuisine\n",
      "5: Oceanic cuisine | https://en.wikipedia.org/wiki/Oceanic%20cuisine\n",
      "6: List of Asian cuisines | https://en.wikipedia.org/wiki/List%20of%20Asian%20cuisines\n",
      "7: List of European cuisines | https://en.wikipedia.org/wiki/List%20of%20European%20cuisines\n",
      "8: List of cuisines of the Americas | https://en.wikipedia.org/wiki/List%20of%20cuisines%20of%20the%20Americas\n",
      "9: Haute cuisine | https://en.wikipedia.org/wiki/Haute%20cuisine\n",
      "10: Cuisine of the Indian subcontinent | https://en.wikipedia.org/wiki/Cuisine%20of%20the%20Indian%20subcontinent\n"
     ]
    }
   ],
   "source": [
    "k_nearest_idf = return_k_nearest_articles(\"meat-based sauce in Italian cuisine, typical of the city of Bologna\", sparse_mat_idf)\n",
    "for i, index in enumerate(k_nearest_idf):\n",
    "    print(f\"{i + 1}: {dataset[index]['title']} | {dataset[index]['url']}\")"
   ],
   "metadata": {
    "collapsed": false
   }
  },
  {
   "cell_type": "code",
   "execution_count": 178,
   "outputs": [
    {
     "name": "stdout",
     "output_type": "stream",
     "text": [
      "1: Oceanic cuisine | https://en.wikipedia.org/wiki/Oceanic%20cuisine\n",
      "2: European cuisine | https://en.wikipedia.org/wiki/European%20cuisine\n",
      "3: List of sauces | https://en.wikipedia.org/wiki/List%20of%20sauces\n",
      "4: Sauce | https://en.wikipedia.org/wiki/Sauce\n",
      "5: Balkan cuisine | https://en.wikipedia.org/wiki/Balkan%20cuisine\n",
      "6: Dal bhat | https://en.wikipedia.org/wiki/Dal%20bhat\n",
      "7: List of European cuisines | https://en.wikipedia.org/wiki/List%20of%20European%20cuisines\n",
      "8: Cuisine of the Indian subcontinent | https://en.wikipedia.org/wiki/Cuisine%20of%20the%20Indian%20subcontinent\n",
      "9: Malian cuisine | https://en.wikipedia.org/wiki/Malian%20cuisine\n",
      "10: Rainbow sauce | https://en.wikipedia.org/wiki/Rainbow%20sauce\n"
     ]
    }
   ],
   "source": [
    "k_nearest_normalized = return_k_nearest_articles_normalized(\"meat-based sauce in Italian cuisine, typical of the city of Bologna\")\n",
    "for i, index in enumerate(k_nearest_normalized):\n",
    "    print(f\"{i + 1}: {dataset[index]['title']} | {dataset[index]['url']}\")"
   ],
   "metadata": {
    "collapsed": false
   }
  },
  {
   "cell_type": "code",
   "execution_count": 179,
   "outputs": [
    {
     "name": "stdout",
     "output_type": "stream",
     "text": [
      "1: Oceanic cuisine | https://en.wikipedia.org/wiki/Oceanic%20cuisine\n",
      "2: European cuisine | https://en.wikipedia.org/wiki/European%20cuisine\n",
      "3: Balkan cuisine | https://en.wikipedia.org/wiki/Balkan%20cuisine\n",
      "4: Dal bhat | https://en.wikipedia.org/wiki/Dal%20bhat\n",
      "5: List of European cuisines | https://en.wikipedia.org/wiki/List%20of%20European%20cuisines\n",
      "6: Cuisine of the Indian subcontinent | https://en.wikipedia.org/wiki/Cuisine%20of%20the%20Indian%20subcontinent\n",
      "7: Caribbean cuisine | https://en.wikipedia.org/wiki/Caribbean%20cuisine\n",
      "8: List of Asian cuisines | https://en.wikipedia.org/wiki/List%20of%20Asian%20cuisines\n",
      "9: Kuurdak | https://en.wikipedia.org/wiki/Kuurdak\n",
      "10: Khatti Dal | https://en.wikipedia.org/wiki/Khatti%20Dal\n"
     ]
    }
   ],
   "source": [
    "k_nearest_svd = return_k_nearest_articles_svd(\"meat-based sauce in Italian cuisine, typical of the city of Bologna\", 50)\n",
    "for i, index in enumerate(k_nearest_svd):\n",
    "    print(f\"{i + 1}: {dataset[index]['title']} | {dataset[index]['url']}\")"
   ],
   "metadata": {
    "collapsed": false
   }
  },
  {
   "cell_type": "code",
   "execution_count": 180,
   "outputs": [
    {
     "name": "stdout",
     "output_type": "stream",
     "text": [
      "1: Oceanic cuisine | https://en.wikipedia.org/wiki/Oceanic%20cuisine\n",
      "2: European cuisine | https://en.wikipedia.org/wiki/European%20cuisine\n",
      "3: List of sauces | https://en.wikipedia.org/wiki/List%20of%20sauces\n",
      "4: Dal bhat | https://en.wikipedia.org/wiki/Dal%20bhat\n",
      "5: Balkan cuisine | https://en.wikipedia.org/wiki/Balkan%20cuisine\n",
      "6: List of European cuisines | https://en.wikipedia.org/wiki/List%20of%20European%20cuisines\n",
      "7: Sauce | https://en.wikipedia.org/wiki/Sauce\n",
      "8: Cuisine of the Indian subcontinent | https://en.wikipedia.org/wiki/Cuisine%20of%20the%20Indian%20subcontinent\n",
      "9: Caribbean cuisine | https://en.wikipedia.org/wiki/Caribbean%20cuisine\n",
      "10: List of Asian cuisines | https://en.wikipedia.org/wiki/List%20of%20Asian%20cuisines\n"
     ]
    }
   ],
   "source": [
    "k_nearest_svd = return_k_nearest_articles_svd(\"meat-based sauce in Italian cuisine, typical of the city of Bologna\", 100)\n",
    "for i, index in enumerate(k_nearest_svd):\n",
    "    print(f\"{i + 1}: {dataset[index]['title']} | {dataset[index]['url']}\")"
   ],
   "metadata": {
    "collapsed": false
   }
  },
  {
   "cell_type": "code",
   "execution_count": 181,
   "outputs": [
    {
     "name": "stdout",
     "output_type": "stream",
     "text": [
      "1: Oceanic cuisine | https://en.wikipedia.org/wiki/Oceanic%20cuisine\n",
      "2: European cuisine | https://en.wikipedia.org/wiki/European%20cuisine\n",
      "3: List of sauces | https://en.wikipedia.org/wiki/List%20of%20sauces\n",
      "4: Dal bhat | https://en.wikipedia.org/wiki/Dal%20bhat\n",
      "5: Sauce | https://en.wikipedia.org/wiki/Sauce\n",
      "6: List of European cuisines | https://en.wikipedia.org/wiki/List%20of%20European%20cuisines\n",
      "7: Balkan cuisine | https://en.wikipedia.org/wiki/Balkan%20cuisine\n",
      "8: Cuisine of the Indian subcontinent | https://en.wikipedia.org/wiki/Cuisine%20of%20the%20Indian%20subcontinent\n",
      "9: Rainbow sauce | https://en.wikipedia.org/wiki/Rainbow%20sauce\n",
      "10: List of Asian cuisines | https://en.wikipedia.org/wiki/List%20of%20Asian%20cuisines\n"
     ]
    }
   ],
   "source": [
    "k_nearest_svd = return_k_nearest_articles_svd(\"meat-based sauce in Italian cuisine, typical of the city of Bologna\", 250)\n",
    "for i, index in enumerate(k_nearest_svd):\n",
    "    print(f\"{i + 1}: {dataset[index]['title']} | {dataset[index]['url']}\")"
   ],
   "metadata": {
    "collapsed": false
   }
  },
  {
   "cell_type": "code",
   "execution_count": 182,
   "outputs": [
    {
     "name": "stdout",
     "output_type": "stream",
     "text": [
      "1: Oceanic cuisine | https://en.wikipedia.org/wiki/Oceanic%20cuisine\n",
      "2: European cuisine | https://en.wikipedia.org/wiki/European%20cuisine\n",
      "3: List of sauces | https://en.wikipedia.org/wiki/List%20of%20sauces\n",
      "4: Sauce | https://en.wikipedia.org/wiki/Sauce\n",
      "5: Balkan cuisine | https://en.wikipedia.org/wiki/Balkan%20cuisine\n",
      "6: Dal bhat | https://en.wikipedia.org/wiki/Dal%20bhat\n",
      "7: List of European cuisines | https://en.wikipedia.org/wiki/List%20of%20European%20cuisines\n",
      "8: Majjige huli | https://en.wikipedia.org/wiki/Majjige%20huli\n",
      "9: Cuisine of the Indian subcontinent | https://en.wikipedia.org/wiki/Cuisine%20of%20the%20Indian%20subcontinent\n",
      "10: Malian cuisine | https://en.wikipedia.org/wiki/Malian%20cuisine\n"
     ]
    }
   ],
   "source": [
    "k_nearest_svd = return_k_nearest_articles_svd(\"meat-based sauce in Italian cuisine, typical of the city of Bologna\", 500)\n",
    "for i, index in enumerate(k_nearest_svd):\n",
    "    print(f\"{i + 1}: {dataset[index]['title']} | {dataset[index]['url']}\")"
   ],
   "metadata": {
    "collapsed": false
   }
  },
  {
   "cell_type": "code",
   "execution_count": 183,
   "outputs": [
    {
     "name": "stdout",
     "output_type": "stream",
     "text": [
      "1: Oceanic cuisine | https://en.wikipedia.org/wiki/Oceanic%20cuisine\n",
      "2: European cuisine | https://en.wikipedia.org/wiki/European%20cuisine\n",
      "3: List of sauces | https://en.wikipedia.org/wiki/List%20of%20sauces\n",
      "4: Sauce | https://en.wikipedia.org/wiki/Sauce\n",
      "5: Balkan cuisine | https://en.wikipedia.org/wiki/Balkan%20cuisine\n",
      "6: Dal bhat | https://en.wikipedia.org/wiki/Dal%20bhat\n",
      "7: List of European cuisines | https://en.wikipedia.org/wiki/List%20of%20European%20cuisines\n",
      "8: Cuisine of the Indian subcontinent | https://en.wikipedia.org/wiki/Cuisine%20of%20the%20Indian%20subcontinent\n",
      "9: Malian cuisine | https://en.wikipedia.org/wiki/Malian%20cuisine\n",
      "10: Rainbow sauce | https://en.wikipedia.org/wiki/Rainbow%20sauce\n"
     ]
    }
   ],
   "source": [
    "k_nearest_svd = return_k_nearest_articles_svd(\"meat-based sauce in Italian cuisine, typical of the city of Bologna\", 1000)\n",
    "for i, index in enumerate(k_nearest_svd):\n",
    "    print(f\"{i + 1}: {dataset[index]['title']} | {dataset[index]['url']}\")"
   ],
   "metadata": {
    "collapsed": false
   }
  },
  {
   "cell_type": "code",
   "execution_count": 185,
   "outputs": [
    {
     "name": "stdout",
     "output_type": "stream",
     "text": [
      "Correct answer was Bolognese sauce :c\n"
     ]
    }
   ],
   "source": [
    "print(\"Correct answer was Bolognese sauce :c\")"
   ],
   "metadata": {
    "collapsed": false
   }
  },
  {
   "cell_type": "markdown",
   "source": [
    "# Test 4 ->\n",
    "\"Beef steaks are usually grilled, pan-fried, or broiled. The more tender cuts from the loin and rib are cooked quickly, using dry heat, and served whole. Less tender cuts from the chuck or round are cooked with moist heat or are mechanically tenderized (cf. cube steak).\""
   ],
   "metadata": {
    "collapsed": false
   }
  },
  {
   "cell_type": "code",
   "execution_count": 187,
   "outputs": [],
   "source": [
    "test_phrase = \"Beef steaks are usually grilled, pan-fried, or broiled. The more tender cuts from the loin and rib are cooked quickly, using dry heat, and served whole. Less tender cuts from the chuck or round are cooked with moist heat or are mechanically tenderized (cf. cube steak).\""
   ],
   "metadata": {
    "collapsed": false
   }
  },
  {
   "cell_type": "code",
   "execution_count": 188,
   "outputs": [
    {
     "name": "stdout",
     "output_type": "stream",
     "text": [
      "1: Beefsteak | https://en.wikipedia.org/wiki/Beefsteak\n",
      "2: Steak | https://en.wikipedia.org/wiki/Steak\n",
      "3: Meat tenderness | https://en.wikipedia.org/wiki/Meat%20tenderness\n",
      "4: Chicken fried steak | https://en.wikipedia.org/wiki/Chicken%20fried%20steak\n",
      "5: Beef | https://en.wikipedia.org/wiki/Beef\n",
      "6: Pot roast | https://en.wikipedia.org/wiki/Pot%20roast\n",
      "7: Omaha Steaks | https://en.wikipedia.org/wiki/Omaha%20Steaks\n",
      "8: Grilling | https://en.wikipedia.org/wiki/Grilling\n",
      "9: Pittsburgh rare | https://en.wikipedia.org/wiki/Pittsburgh%20rare\n",
      "10: Salisbury steak | https://en.wikipedia.org/wiki/Salisbury%20steak\n"
     ]
    }
   ],
   "source": [
    "k_nearest = return_k_nearest_articles(test_phrase, sparse_mat)\n",
    "for i, index in enumerate(k_nearest):\n",
    "    print(f\"{i + 1}: {dataset[index]['title']} | {dataset[index]['url']}\")"
   ],
   "metadata": {
    "collapsed": false
   }
  },
  {
   "cell_type": "code",
   "execution_count": 189,
   "outputs": [
    {
     "name": "stdout",
     "output_type": "stream",
     "text": [
      "1: Beefsteak | https://en.wikipedia.org/wiki/Beefsteak\n",
      "2: Steak | https://en.wikipedia.org/wiki/Steak\n",
      "3: Chicken fried steak | https://en.wikipedia.org/wiki/Chicken%20fried%20steak\n",
      "4: Meat tenderness | https://en.wikipedia.org/wiki/Meat%20tenderness\n",
      "5: Grilling | https://en.wikipedia.org/wiki/Grilling\n",
      "6: Flattop grill | https://en.wikipedia.org/wiki/Flattop%20grill\n",
      "7: Pot roast | https://en.wikipedia.org/wiki/Pot%20roast\n",
      "8: Brisket | https://en.wikipedia.org/wiki/Brisket\n",
      "9: Thermal cooking | https://en.wikipedia.org/wiki/Thermal%20cooking\n",
      "10: Beef | https://en.wikipedia.org/wiki/Beef\n"
     ]
    }
   ],
   "source": [
    "k_nearest_idf = return_k_nearest_articles(test_phrase, sparse_mat_idf)\n",
    "for i, index in enumerate(k_nearest_idf):\n",
    "    print(f\"{i + 1}: {dataset[index]['title']} | {dataset[index]['url']}\")"
   ],
   "metadata": {
    "collapsed": false
   }
  },
  {
   "cell_type": "code",
   "execution_count": 190,
   "outputs": [
    {
     "name": "stdout",
     "output_type": "stream",
     "text": [
      "1: Beefsteak | https://en.wikipedia.org/wiki/Beefsteak\n",
      "2: Broiler (disambiguation) | https://en.wikipedia.org/wiki/Broiler%20%28disambiguation%29\n",
      "3: Meat tenderness | https://en.wikipedia.org/wiki/Meat%20tenderness\n",
      "4: Chicken fried steak | https://en.wikipedia.org/wiki/Chicken%20fried%20steak\n",
      "5: Steak | https://en.wikipedia.org/wiki/Steak\n",
      "6: Carryover cooking | https://en.wikipedia.org/wiki/Carryover%20cooking\n",
      "7: Chinese cooking techniques | https://en.wikipedia.org/wiki/Chinese%20cooking%20techniques\n",
      "8: Ribs (food) | https://en.wikipedia.org/wiki/Ribs%20%28food%29\n",
      "9: Pot roast | https://en.wikipedia.org/wiki/Pot%20roast\n",
      "10: Pork ribs | https://en.wikipedia.org/wiki/Pork%20ribs\n"
     ]
    }
   ],
   "source": [
    "k_nearest_normalized = return_k_nearest_articles_normalized(test_phrase)\n",
    "for i, index in enumerate(k_nearest_normalized):\n",
    "    print(f\"{i + 1}: {dataset[index]['title']} | {dataset[index]['url']}\")"
   ],
   "metadata": {
    "collapsed": false
   }
  },
  {
   "cell_type": "code",
   "execution_count": 191,
   "outputs": [
    {
     "name": "stdout",
     "output_type": "stream",
     "text": [
      "1: Shocking (cooking) | https://en.wikipedia.org/wiki/Shocking%20%28cooking%29\n",
      "2: Chinese cooking techniques | https://en.wikipedia.org/wiki/Chinese%20cooking%20techniques\n",
      "3: Broiler (disambiguation) | https://en.wikipedia.org/wiki/Broiler%20%28disambiguation%29\n",
      "4: Tava | https://en.wikipedia.org/wiki/Tava\n",
      "5: Low-temperature cooking | https://en.wikipedia.org/wiki/Low-temperature%20cooking\n",
      "6: Clay pot cooking | https://en.wikipedia.org/wiki/Clay%20pot%20cooking\n",
      "7: Tess Mallos | https://en.wikipedia.org/wiki/Tess%20Mallos\n",
      "8: Carryover cooking | https://en.wikipedia.org/wiki/Carryover%20cooking\n",
      "9: Dum pukht | https://en.wikipedia.org/wiki/Dum%20pukht\n",
      "10: Cuisine of pre-colonial Philippines | https://en.wikipedia.org/wiki/Cuisine%20of%20pre-colonial%20Philippines\n"
     ]
    }
   ],
   "source": [
    "k_nearest_svd = return_k_nearest_articles_svd(test_phrase, 50)\n",
    "for i, index in enumerate(k_nearest_svd):\n",
    "    print(f\"{i + 1}: {dataset[index]['title']} | {dataset[index]['url']}\")"
   ],
   "metadata": {
    "collapsed": false
   }
  },
  {
   "cell_type": "code",
   "execution_count": 192,
   "outputs": [
    {
     "name": "stdout",
     "output_type": "stream",
     "text": [
      "1: Chinese cooking techniques | https://en.wikipedia.org/wiki/Chinese%20cooking%20techniques\n",
      "2: Shocking (cooking) | https://en.wikipedia.org/wiki/Shocking%20%28cooking%29\n",
      "3: Broiler (disambiguation) | https://en.wikipedia.org/wiki/Broiler%20%28disambiguation%29\n",
      "4: Low-temperature cooking | https://en.wikipedia.org/wiki/Low-temperature%20cooking\n",
      "5: Clay pot cooking | https://en.wikipedia.org/wiki/Clay%20pot%20cooking\n",
      "6: Tava | https://en.wikipedia.org/wiki/Tava\n",
      "7: Geera pork | https://en.wikipedia.org/wiki/Geera%20pork\n",
      "8: Dum pukht | https://en.wikipedia.org/wiki/Dum%20pukht\n",
      "9: Carryover cooking | https://en.wikipedia.org/wiki/Carryover%20cooking\n",
      "10: Thermal cooking | https://en.wikipedia.org/wiki/Thermal%20cooking\n"
     ]
    }
   ],
   "source": [
    "k_nearest_svd = return_k_nearest_articles_svd(test_phrase, 100)\n",
    "for i, index in enumerate(k_nearest_svd):\n",
    "    print(f\"{i + 1}: {dataset[index]['title']} | {dataset[index]['url']}\")"
   ],
   "metadata": {
    "collapsed": false
   }
  },
  {
   "cell_type": "code",
   "execution_count": 193,
   "outputs": [
    {
     "name": "stdout",
     "output_type": "stream",
     "text": [
      "1: Chinese cooking techniques | https://en.wikipedia.org/wiki/Chinese%20cooking%20techniques\n",
      "2: Broiler (disambiguation) | https://en.wikipedia.org/wiki/Broiler%20%28disambiguation%29\n",
      "3: Shocking (cooking) | https://en.wikipedia.org/wiki/Shocking%20%28cooking%29\n",
      "4: Low-temperature cooking | https://en.wikipedia.org/wiki/Low-temperature%20cooking\n",
      "5: Tava | https://en.wikipedia.org/wiki/Tava\n",
      "6: Carryover cooking | https://en.wikipedia.org/wiki/Carryover%20cooking\n",
      "7: Dum pukht | https://en.wikipedia.org/wiki/Dum%20pukht\n",
      "8: Thermal cooking | https://en.wikipedia.org/wiki/Thermal%20cooking\n",
      "9: Clay pot cooking | https://en.wikipedia.org/wiki/Clay%20pot%20cooking\n",
      "10: Kuzu şiş | https://en.wikipedia.org/wiki/Kuzu%20%C5%9Fi%C5%9F\n"
     ]
    }
   ],
   "source": [
    "k_nearest_svd = return_k_nearest_articles_svd(test_phrase, 250)\n",
    "for i, index in enumerate(k_nearest_svd):\n",
    "    print(f\"{i + 1}: {dataset[index]['title']} | {dataset[index]['url']}\")"
   ],
   "metadata": {
    "collapsed": false
   }
  },
  {
   "cell_type": "code",
   "execution_count": 194,
   "outputs": [
    {
     "name": "stdout",
     "output_type": "stream",
     "text": [
      "1: Beefsteak | https://en.wikipedia.org/wiki/Beefsteak\n",
      "2: Broiler (disambiguation) | https://en.wikipedia.org/wiki/Broiler%20%28disambiguation%29\n",
      "3: Chinese cooking techniques | https://en.wikipedia.org/wiki/Chinese%20cooking%20techniques\n",
      "4: Steak | https://en.wikipedia.org/wiki/Steak\n",
      "5: Chicken fried steak | https://en.wikipedia.org/wiki/Chicken%20fried%20steak\n",
      "6: Shocking (cooking) | https://en.wikipedia.org/wiki/Shocking%20%28cooking%29\n",
      "7: Carryover cooking | https://en.wikipedia.org/wiki/Carryover%20cooking\n",
      "8: Low-temperature cooking | https://en.wikipedia.org/wiki/Low-temperature%20cooking\n",
      "9: Ribs (food) | https://en.wikipedia.org/wiki/Ribs%20%28food%29\n",
      "10: Pork ribs | https://en.wikipedia.org/wiki/Pork%20ribs\n"
     ]
    }
   ],
   "source": [
    "k_nearest_svd = return_k_nearest_articles_svd(test_phrase, 500)\n",
    "for i, index in enumerate(k_nearest_svd):\n",
    "    print(f\"{i + 1}: {dataset[index]['title']} | {dataset[index]['url']}\")"
   ],
   "metadata": {
    "collapsed": false
   }
  },
  {
   "cell_type": "code",
   "execution_count": 195,
   "outputs": [
    {
     "name": "stdout",
     "output_type": "stream",
     "text": [
      "1: Beefsteak | https://en.wikipedia.org/wiki/Beefsteak\n",
      "2: Broiler (disambiguation) | https://en.wikipedia.org/wiki/Broiler%20%28disambiguation%29\n",
      "3: Chinese cooking techniques | https://en.wikipedia.org/wiki/Chinese%20cooking%20techniques\n",
      "4: Carryover cooking | https://en.wikipedia.org/wiki/Carryover%20cooking\n",
      "5: Steak | https://en.wikipedia.org/wiki/Steak\n",
      "6: Chicken fried steak | https://en.wikipedia.org/wiki/Chicken%20fried%20steak\n",
      "7: Dicing | https://en.wikipedia.org/wiki/Dicing\n",
      "8: Shocking (cooking) | https://en.wikipedia.org/wiki/Shocking%20%28cooking%29\n",
      "9: Ribs (food) | https://en.wikipedia.org/wiki/Ribs%20%28food%29\n",
      "10: Pork ribs | https://en.wikipedia.org/wiki/Pork%20ribs\n"
     ]
    }
   ],
   "source": [
    "k_nearest_svd = return_k_nearest_articles_svd(test_phrase, 1000)\n",
    "for i, index in enumerate(k_nearest_svd):\n",
    "    print(f\"{i + 1}: {dataset[index]['title']} | {dataset[index]['url']}\")"
   ],
   "metadata": {
    "collapsed": false
   }
  },
  {
   "cell_type": "code",
   "execution_count": 197,
   "outputs": [
    {
     "name": "stdout",
     "output_type": "stream",
     "text": [
      "Correct answer was Beefsteak\n",
      "It worked! (I copied part of wikipedia page but it worked!) Correct answer was Beefsteak\n"
     ]
    }
   ],
   "source": [
    "print(\"It worked! (I copied part of wikipedia page but it worked!) Correct answer was Beefsteak\")"
   ],
   "metadata": {
    "collapsed": false
   }
  },
  {
   "cell_type": "markdown",
   "source": [
    "# Test 5 ->"
   ],
   "metadata": {
    "collapsed": false
   }
  },
  {
   "cell_type": "code",
   "execution_count": 198,
   "outputs": [
    {
     "name": "stdout",
     "output_type": "stream",
     "text": [
      "1: Detarium senegalense | https://en.wikipedia.org/wiki/Detarium%20senegalense\n",
      "2: Tamarillo | https://en.wikipedia.org/wiki/Tamarillo\n",
      "3: Sclerocarya birrea | https://en.wikipedia.org/wiki/Sclerocarya%20birrea\n",
      "4: Syzygium cumini | https://en.wikipedia.org/wiki/Syzygium%20cumini\n",
      "5: Spondias purpurea | https://en.wikipedia.org/wiki/Spondias%20purpurea\n",
      "6: Tree | https://en.wikipedia.org/wiki/Tree\n",
      "7: Tree of life | https://en.wikipedia.org/wiki/Tree%20of%20life\n",
      "8: Pyrus pashia | https://en.wikipedia.org/wiki/Pyrus%20pashia\n",
      "9: Myrciaria dubia | https://en.wikipedia.org/wiki/Myrciaria%20dubia\n",
      "10: Fruit | https://en.wikipedia.org/wiki/Fruit\n"
     ]
    }
   ],
   "source": [
    "k_nearest = return_k_nearest_articles(\"Fruit that grows on the trees. This fruit is red and very sweet.\", sparse_mat)\n",
    "for i, index in enumerate(k_nearest):\n",
    "    print(f\"{i + 1}: {dataset[index]['title']} | {dataset[index]['url']}\")"
   ],
   "metadata": {
    "collapsed": false
   }
  },
  {
   "cell_type": "code",
   "execution_count": 199,
   "outputs": [
    {
     "name": "stdout",
     "output_type": "stream",
     "text": [
      "1: Detarium senegalense | https://en.wikipedia.org/wiki/Detarium%20senegalense\n",
      "2: Spondias purpurea | https://en.wikipedia.org/wiki/Spondias%20purpurea\n",
      "3: Sclerocarya birrea | https://en.wikipedia.org/wiki/Sclerocarya%20birrea\n",
      "4: Artocarpus integer | https://en.wikipedia.org/wiki/Artocarpus%20integer\n",
      "5: Syzygium cumini | https://en.wikipedia.org/wiki/Syzygium%20cumini\n",
      "6: Fruit | https://en.wikipedia.org/wiki/Fruit\n",
      "7: Tamarillo | https://en.wikipedia.org/wiki/Tamarillo\n",
      "8: Pitaya | https://en.wikipedia.org/wiki/Pitaya\n",
      "9: Sonneratia caseolaris | https://en.wikipedia.org/wiki/Sonneratia%20caseolaris\n",
      "10: Pyrus pashia | https://en.wikipedia.org/wiki/Pyrus%20pashia\n"
     ]
    }
   ],
   "source": [
    "k_nearest_idf = return_k_nearest_articles(\"Fruit that grows on the trees. This fruit is red and very sweet.\", sparse_mat_idf)\n",
    "for i, index in enumerate(k_nearest_idf):\n",
    "    print(f\"{i + 1}: {dataset[index]['title']} | {dataset[index]['url']}\")"
   ],
   "metadata": {
    "collapsed": false
   }
  },
  {
   "cell_type": "markdown",
   "source": [],
   "metadata": {
    "collapsed": false
   }
  },
  {
   "cell_type": "code",
   "execution_count": 200,
   "outputs": [
    {
     "name": "stdout",
     "output_type": "stream",
     "text": [
      "1: Fruit dove | https://en.wikipedia.org/wiki/Fruit%20dove\n",
      "2: Psychotria dallachiana | https://en.wikipedia.org/wiki/Psychotria%20dallachiana\n",
      "3: Annona salzmannii | https://en.wikipedia.org/wiki/Annona%20salzmannii\n",
      "4: Palm nut | https://en.wikipedia.org/wiki/Palm%20nut\n",
      "5: Couepia bracteosa | https://en.wikipedia.org/wiki/Couepia%20bracteosa\n",
      "6: Srikaya | https://en.wikipedia.org/wiki/Srikaya\n",
      "7: Sonneratia caseolaris | https://en.wikipedia.org/wiki/Sonneratia%20caseolaris\n",
      "8: Confiture | https://en.wikipedia.org/wiki/Confiture\n",
      "9: Khanom sane chan | https://en.wikipedia.org/wiki/Khanom%20sane%20chan\n",
      "10: Buddy Fruits | https://en.wikipedia.org/wiki/Buddy%20Fruits\n"
     ]
    }
   ],
   "source": [
    "k_nearest_normalized = return_k_nearest_articles_normalized(\"Fruit that grows on the trees. This fruit is red and very sweet.\")\n",
    "for i, index in enumerate(k_nearest_normalized):\n",
    "    print(f\"{i + 1}: {dataset[index]['title']} | {dataset[index]['url']}\")"
   ],
   "metadata": {
    "collapsed": false
   }
  },
  {
   "cell_type": "code",
   "execution_count": 201,
   "outputs": [
    {
     "name": "stdout",
     "output_type": "stream",
     "text": [
      "1: Fruit dove | https://en.wikipedia.org/wiki/Fruit%20dove\n",
      "2: Annona salzmannii | https://en.wikipedia.org/wiki/Annona%20salzmannii\n",
      "3: Srikaya | https://en.wikipedia.org/wiki/Srikaya\n",
      "4: Couepia bracteosa | https://en.wikipedia.org/wiki/Couepia%20bracteosa\n",
      "5: Palm nut | https://en.wikipedia.org/wiki/Palm%20nut\n",
      "6: Psychotria dallachiana | https://en.wikipedia.org/wiki/Psychotria%20dallachiana\n",
      "7: Sonneratia caseolaris | https://en.wikipedia.org/wiki/Sonneratia%20caseolaris\n",
      "8: Confiture | https://en.wikipedia.org/wiki/Confiture\n",
      "9: Buddy Fruits | https://en.wikipedia.org/wiki/Buddy%20Fruits\n",
      "10: Khanom sane chan | https://en.wikipedia.org/wiki/Khanom%20sane%20chan\n"
     ]
    }
   ],
   "source": [
    "k_nearest_svd = return_k_nearest_articles_svd(\"Fruit that grows on the trees. This fruit is red and very sweet.\", 50)\n",
    "for i, index in enumerate(k_nearest_svd):\n",
    "    print(f\"{i + 1}: {dataset[index]['title']} | {dataset[index]['url']}\")"
   ],
   "metadata": {
    "collapsed": false
   }
  },
  {
   "cell_type": "code",
   "execution_count": 202,
   "outputs": [
    {
     "name": "stdout",
     "output_type": "stream",
     "text": [
      "1: Fruit dove | https://en.wikipedia.org/wiki/Fruit%20dove\n",
      "2: Annona salzmannii | https://en.wikipedia.org/wiki/Annona%20salzmannii\n",
      "3: Srikaya | https://en.wikipedia.org/wiki/Srikaya\n",
      "4: Couepia bracteosa | https://en.wikipedia.org/wiki/Couepia%20bracteosa\n",
      "5: Psychotria dallachiana | https://en.wikipedia.org/wiki/Psychotria%20dallachiana\n",
      "6: Palm nut | https://en.wikipedia.org/wiki/Palm%20nut\n",
      "7: Sonneratia caseolaris | https://en.wikipedia.org/wiki/Sonneratia%20caseolaris\n",
      "8: Beautiful fruit dove | https://en.wikipedia.org/wiki/Beautiful%20fruit%20dove\n",
      "9: Confiture | https://en.wikipedia.org/wiki/Confiture\n",
      "10: Buddy Fruits | https://en.wikipedia.org/wiki/Buddy%20Fruits\n"
     ]
    }
   ],
   "source": [
    "k_nearest_svd = return_k_nearest_articles_svd(\"Fruit that grows on the trees. This fruit is red and very sweet.\", 100)\n",
    "for i, index in enumerate(k_nearest_svd):\n",
    "    print(f\"{i + 1}: {dataset[index]['title']} | {dataset[index]['url']}\")"
   ],
   "metadata": {
    "collapsed": false
   }
  },
  {
   "cell_type": "code",
   "execution_count": 203,
   "outputs": [
    {
     "name": "stdout",
     "output_type": "stream",
     "text": [
      "1: Fruit dove | https://en.wikipedia.org/wiki/Fruit%20dove\n",
      "2: Psychotria dallachiana | https://en.wikipedia.org/wiki/Psychotria%20dallachiana\n",
      "3: Annona salzmannii | https://en.wikipedia.org/wiki/Annona%20salzmannii\n",
      "4: Palm nut | https://en.wikipedia.org/wiki/Palm%20nut\n",
      "5: Srikaya | https://en.wikipedia.org/wiki/Srikaya\n",
      "6: Couepia bracteosa | https://en.wikipedia.org/wiki/Couepia%20bracteosa\n",
      "7: Sonneratia caseolaris | https://en.wikipedia.org/wiki/Sonneratia%20caseolaris\n",
      "8: Confiture | https://en.wikipedia.org/wiki/Confiture\n",
      "9: Beautiful fruit dove | https://en.wikipedia.org/wiki/Beautiful%20fruit%20dove\n",
      "10: Khanom sane chan | https://en.wikipedia.org/wiki/Khanom%20sane%20chan\n"
     ]
    }
   ],
   "source": [
    "k_nearest_svd = return_k_nearest_articles_svd(\"Fruit that grows on the trees. This fruit is red and very sweet.\", 250)\n",
    "for i, index in enumerate(k_nearest_svd):\n",
    "    print(f\"{i + 1}: {dataset[index]['title']} | {dataset[index]['url']}\")"
   ],
   "metadata": {
    "collapsed": false
   }
  },
  {
   "cell_type": "code",
   "execution_count": 204,
   "outputs": [
    {
     "name": "stdout",
     "output_type": "stream",
     "text": [
      "1: Fruit dove | https://en.wikipedia.org/wiki/Fruit%20dove\n",
      "2: Psychotria dallachiana | https://en.wikipedia.org/wiki/Psychotria%20dallachiana\n",
      "3: Annona salzmannii | https://en.wikipedia.org/wiki/Annona%20salzmannii\n",
      "4: Palm nut | https://en.wikipedia.org/wiki/Palm%20nut\n",
      "5: Couepia bracteosa | https://en.wikipedia.org/wiki/Couepia%20bracteosa\n",
      "6: Srikaya | https://en.wikipedia.org/wiki/Srikaya\n",
      "7: Sonneratia caseolaris | https://en.wikipedia.org/wiki/Sonneratia%20caseolaris\n",
      "8: Confiture | https://en.wikipedia.org/wiki/Confiture\n",
      "9: Khanom sane chan | https://en.wikipedia.org/wiki/Khanom%20sane%20chan\n",
      "10: Beautiful fruit dove | https://en.wikipedia.org/wiki/Beautiful%20fruit%20dove\n"
     ]
    }
   ],
   "source": [
    "k_nearest_svd = return_k_nearest_articles_svd(\"Fruit that grows on the trees. This fruit is red and very sweet.\", 500)\n",
    "for i, index in enumerate(k_nearest_svd):\n",
    "    print(f\"{i + 1}: {dataset[index]['title']} | {dataset[index]['url']}\")"
   ],
   "metadata": {
    "collapsed": false
   }
  },
  {
   "cell_type": "code",
   "execution_count": 205,
   "outputs": [
    {
     "name": "stdout",
     "output_type": "stream",
     "text": [
      "1: Fruit dove | https://en.wikipedia.org/wiki/Fruit%20dove\n",
      "2: Psychotria dallachiana | https://en.wikipedia.org/wiki/Psychotria%20dallachiana\n",
      "3: Annona salzmannii | https://en.wikipedia.org/wiki/Annona%20salzmannii\n",
      "4: Palm nut | https://en.wikipedia.org/wiki/Palm%20nut\n",
      "5: Couepia bracteosa | https://en.wikipedia.org/wiki/Couepia%20bracteosa\n",
      "6: Srikaya | https://en.wikipedia.org/wiki/Srikaya\n",
      "7: Sonneratia caseolaris | https://en.wikipedia.org/wiki/Sonneratia%20caseolaris\n",
      "8: Confiture | https://en.wikipedia.org/wiki/Confiture\n",
      "9: Khanom sane chan | https://en.wikipedia.org/wiki/Khanom%20sane%20chan\n",
      "10: Buddy Fruits | https://en.wikipedia.org/wiki/Buddy%20Fruits\n"
     ]
    }
   ],
   "source": [
    "k_nearest_svd = return_k_nearest_articles_svd(\"Fruit that grows on the trees. This fruit is red and very sweet.\", 1000)\n",
    "for i, index in enumerate(k_nearest_svd):\n",
    "    print(f\"{i + 1}: {dataset[index]['title']} | {dataset[index]['url']}\")"
   ],
   "metadata": {
    "collapsed": false
   }
  },
  {
   "cell_type": "markdown",
   "source": [
    "# Conclusions"
   ],
   "metadata": {
    "collapsed": false
   }
  },
  {
   "cell_type": "markdown",
   "source": [
    "### In order to my search engine to work, searched phrase has to be very specific (and long). The resoults are often chaotic and are not the correct ones.\n",
    "### I don't see any improvements in resoults after idf. Results are just more mixed up but I can't tell if they are better.\n",
    "### I think that normalization helped a little. It made results more strict and specific (usuall in a good way)\n",
    "### SVD was interesting. For k = 50 results were usually not bad. For k = 100 sometimes results were 100% bad (I don't know why).\n",
    "### For k = 500 or k = 1000 results were the best, but there were very similar to those after normalization. I did not find SVD usefull\n"
   ],
   "metadata": {
    "collapsed": false
   }
  }
 ],
 "metadata": {
  "kernelspec": {
   "display_name": "Python 3",
   "language": "python",
   "name": "python3"
  },
  "language_info": {
   "codemirror_mode": {
    "name": "ipython",
    "version": 2
   },
   "file_extension": ".py",
   "mimetype": "text/x-python",
   "name": "python",
   "nbconvert_exporter": "python",
   "pygments_lexer": "ipython2",
   "version": "2.7.6"
  }
 },
 "nbformat": 4,
 "nbformat_minor": 0
}
